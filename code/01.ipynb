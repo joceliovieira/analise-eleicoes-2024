{
 "cells": [
  {
   "cell_type": "code",
   "execution_count": 66,
   "metadata": {},
   "outputs": [],
   "source": [
    "from zipfile import ZipFile\n",
    "from pathlib import Path"
   ]
  },
  {
   "cell_type": "code",
   "execution_count": 67,
   "metadata": {},
   "outputs": [],
   "source": [
    "def get_files(folder: str):\n",
    "    path = Path(folder)\n",
    "    files = [i for i in path.glob('*.zip')]\n",
    "    return files"
   ]
  },
  {
   "cell_type": "code",
   "execution_count": 83,
   "metadata": {},
   "outputs": [],
   "source": [
    "def extract_csvs(zip_file: str | Path):\n",
    "    path = Path(zip_file)\n",
    "    zf = ZipFile(path)\n",
    "    for file in zf.namelist():\n",
    "        if '.csv' in file:\n",
    "            zf.extract(file, '../data/bronze')\n"
   ]
  },
  {
   "cell_type": "code",
   "execution_count": 80,
   "metadata": {},
   "outputs": [],
   "source": [
    "# zf = ZipFile('../data/raw/bem_candidato_2024.zip')\n",
    "# for file in zf.namelist():\n",
    "#     if '.csv' in file:\n",
    "#         print(file)\n",
    "#         zf.extract(file, '../data/bronze')"
   ]
  },
  {
   "cell_type": "code",
   "execution_count": 81,
   "metadata": {},
   "outputs": [
    {
     "data": {
      "text/plain": [
       "[PosixPath('../data/raw/consulta_cand_complementar_2024.zip'),\n",
       " PosixPath('../data/raw/bem_candidato_2024.zip'),\n",
       " PosixPath('../data/raw/consulta_coligacao_2024.zip'),\n",
       " PosixPath('../data/raw/consulta_cand_2024.zip'),\n",
       " PosixPath('../data/raw/motivo_cassacao_2024.zip')]"
      ]
     },
     "execution_count": 81,
     "metadata": {},
     "output_type": "execute_result"
    }
   ],
   "source": [
    "files = get_files('../data/raw')\n",
    "files"
   ]
  },
  {
   "cell_type": "code",
   "execution_count": 85,
   "metadata": {},
   "outputs": [
    {
     "name": "stdout",
     "output_type": "stream",
     "text": [
      "../data/raw/consulta_cand_complementar_2024.zip\n",
      "../data/raw/bem_candidato_2024.zip\n",
      "../data/raw/consulta_coligacao_2024.zip\n",
      "../data/raw/consulta_cand_2024.zip\n",
      "../data/raw/motivo_cassacao_2024.zip\n"
     ]
    }
   ],
   "source": [
    "for file in files:\n",
    "    print(file)\n",
    "    extract_csvs(file)"
   ]
  },
  {
   "cell_type": "code",
   "execution_count": null,
   "metadata": {},
   "outputs": [],
   "source": []
  }
 ],
 "metadata": {
  "kernelspec": {
   "display_name": "analise-eleicoes-pb-kmAkb5aP-py3.12",
   "language": "python",
   "name": "python3"
  },
  "language_info": {
   "codemirror_mode": {
    "name": "ipython",
    "version": 3
   },
   "file_extension": ".py",
   "mimetype": "text/x-python",
   "name": "python",
   "nbconvert_exporter": "python",
   "pygments_lexer": "ipython3",
   "version": "3.12.3"
  }
 },
 "nbformat": 4,
 "nbformat_minor": 2
}
